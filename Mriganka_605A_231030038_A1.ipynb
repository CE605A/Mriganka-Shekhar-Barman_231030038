{
  "nbformat": 4,
  "nbformat_minor": 0,
  "metadata": {
    "colab": {
      "provenance": [],
      "authorship_tag": "ABX9TyMqYpCOMdrFhx1Vm02zT0cf",
      "include_colab_link": true
    },
    "kernelspec": {
      "name": "python3",
      "display_name": "Python 3"
    },
    "language_info": {
      "name": "python"
    }
  },
  "cells": [
    {
      "cell_type": "markdown",
      "metadata": {
        "id": "view-in-github",
        "colab_type": "text"
      },
      "source": [
        "<a href=\"https://colab.research.google.com/github/CE605A/Mriganka-Shekhar-Barman_231030038/blob/main/Mriganka_605A_231030038_A1.ipynb\" target=\"_parent\"><img src=\"https://colab.research.google.com/assets/colab-badge.svg\" alt=\"Open In Colab\"/></a>"
      ]
    },
    {
      "cell_type": "code",
      "source": [
        "# question - 1\n",
        "\n",
        "\n",
        "\n",
        "#create a row vector\n",
        "import numpy as np   #importing numpy\n",
        "row = np.array([12, 24, 36, 48, 60])\n",
        "print(\"row:\")\n",
        "print(row)\n",
        "\n",
        "#create a column vector\n",
        "column = np.array([[72],\n",
        "[84],\n",
        "[96],\n",
        "[108],\n",
        "[120]])\n",
        "print(\"column:\")\n",
        "print(column)\n"
      ],
      "metadata": {
        "id": "8lYKHOBj8B1v",
        "colab": {
          "base_uri": "https://localhost:8080/"
        },
        "outputId": "723340ad-7107-4165-8e99-953d02b5717c"
      },
      "execution_count": null,
      "outputs": [
        {
          "output_type": "stream",
          "name": "stdout",
          "text": [
            "row:\n",
            "[12 24 36 48 60]\n",
            "column:\n",
            "[[ 72]\n",
            " [ 84]\n",
            " [ 96]\n",
            " [108]\n",
            " [120]]\n"
          ]
        }
      ]
    },
    {
      "cell_type": "code",
      "execution_count": null,
      "metadata": {
        "id": "IR_UXiSw7lAz",
        "colab": {
          "base_uri": "https://localhost:8080/"
        },
        "outputId": "b7f05244-f8fb-4728-db9e-aa2a2e9c601b"
      },
      "outputs": [
        {
          "output_type": "stream",
          "name": "stdout",
          "text": [
            "Matrix 'a' manually:\n",
            "[[ 10  20  30  40  50]\n",
            " [ 60  70  80  90 100]\n",
            " [110 120 130 140 150]\n",
            " [160 170 180 190 200]\n",
            " [210 220 230 240 250]]\n",
            "Enter values of the matrix (5x5):\n",
            "Enter value for element at position (1, 1): 1\n",
            "Enter value for element at position (1, 2): 2\n",
            "Enter value for element at position (1, 3): 3\n",
            "Enter value for element at position (1, 4): 4\n",
            "Enter value for element at position (1, 5): 5\n",
            "Enter value for element at position (2, 1): 6\n",
            "Enter value for element at position (2, 2): 7\n",
            "Enter value for element at position (2, 3): 8\n",
            "Enter value for element at position (2, 4): 9\n",
            "Enter value for element at position (2, 5): 10\n",
            "Enter value for element at position (3, 1): 11\n",
            "Enter value for element at position (3, 2): 12\n",
            "Enter value for element at position (3, 3): 13\n",
            "Enter value for element at position (3, 4): 14\n",
            "Enter value for element at position (3, 5): 15\n",
            "Enter value for element at position (4, 1): 16\n",
            "Enter value for element at position (4, 2): 17\n",
            "Enter value for element at position (4, 3): 18\n",
            "Enter value for element at position (4, 4): 19\n",
            "Enter value for element at position (4, 5): 20\n",
            "Enter value for element at position (5, 1): 21\n",
            "Enter value for element at position (5, 2): 22\n",
            "Enter value for element at position (5, 3): 23\n",
            "Enter value for element at position (5, 4): 24\n",
            "Enter value for element at position (5, 5): 25\n",
            "Matrix 'a' by input method:\n",
            "[[ 1.  2.  3.  4.  5.]\n",
            " [ 6.  7.  8.  9. 10.]\n",
            " [11. 12. 13. 14. 15.]\n",
            " [16. 17. 18. 19. 20.]\n",
            " [21. 22. 23. 24. 25.]]\n"
          ]
        }
      ],
      "source": [
        "# question - 2\n",
        "\n",
        "\n",
        "\n",
        "# Manually creating a 5x5 matrix\n",
        "import numpy as np\n",
        "a = np.array([[10, 20, 30, 40, 50],\n",
        "[60, 70, 80, 90, 100],\n",
        "[110, 120, 130, 140, 150],\n",
        "[160, 170, 180, 190, 200],\n",
        "[210, 220, 230, 240, 250]])\n",
        "print(\"Matrix 'a' manually:\")\n",
        "print(a)\n",
        "\n",
        "\n",
        "# create a 5x5 matrix by input method\n",
        "import numpy as np\n",
        "a_inp = np.zeros((5, 5)) # Initializing with zeros\n",
        "\n",
        "print(\"Enter values of the matrix (5x5):\")\n",
        "for i in range(5):\n",
        "    for j in range(5):\n",
        "         a_inp[i, j] = float(input(f\"Enter value for element at position ({i+1}, {j+1}): \"))\n",
        "print(\"Matrix 'a' by input method:\")\n",
        "print(a_inp)\n"
      ]
    },
    {
      "cell_type": "code",
      "source": [
        "# Question - 3\n",
        "\n",
        "\n",
        "\n",
        "# Extracting the 3rd row (index 2, since indexing starts from 0)\n",
        "\n",
        "import numpy as np\n",
        "a = np.array([[0, 1, 1, 2, 3],\n",
        "[5, 8, 13, 21, 34],\n",
        "[55, 89, 144, 233, 377],\n",
        "[610, 987, 1597, 2584, 4181],\n",
        "[6765, 10946, 17711, 28657, 46368]])\n",
        "third_row = a[2, :]       #extracting the 3rd row\n",
        "print(\"3rd Row of the Matrix:\")\n",
        "print(third_row)\n"
      ],
      "metadata": {
        "id": "z_4PhmWDTstB",
        "colab": {
          "base_uri": "https://localhost:8080/"
        },
        "outputId": "141ed1c9-2475-493b-f7bd-6b3e243a9616"
      },
      "execution_count": null,
      "outputs": [
        {
          "output_type": "stream",
          "name": "stdout",
          "text": [
            "3rd Row of the Matrix:\n",
            "[ 55  89 144 233 377]\n"
          ]
        }
      ]
    },
    {
      "cell_type": "code",
      "source": [
        "# Question-4\n",
        "\n",
        "\n",
        "\n",
        "# Extracting the 4th column (index 3, since indexing starts from 0)\n",
        "\n",
        "fourth_column = a[:, 3]       #extracting the 4th column\n",
        "print(\"4th Column of the Matrix:\")\n",
        "print(fourth_column)"
      ],
      "metadata": {
        "id": "wYrZoW9FIvxY",
        "colab": {
          "base_uri": "https://localhost:8080/"
        },
        "outputId": "b4f9b05d-f989-48f8-be53-7aa140d19939"
      },
      "execution_count": null,
      "outputs": [
        {
          "output_type": "stream",
          "name": "stdout",
          "text": [
            "4th Column of the Matrix:\n",
            "[    2    21   233  2584 28657]\n"
          ]
        }
      ]
    },
    {
      "cell_type": "code",
      "source": [
        "# QUESTION - 5\n",
        "\n",
        "\n",
        "\n",
        "# Sorting row-wise\n",
        "sorted_rows = np.sort(a, axis=1)\n",
        "\n",
        "# Sorting column-wise\n",
        "sorted_columns = np.sort(a, axis=0)\n",
        "\n",
        "print(\"Original Matrix:\")\n",
        "print(a)\n",
        "\n",
        "print(\"\\nMatrix with Sorted Rows:\")\n",
        "print(sorted_rows)\n",
        "\n",
        "print(\"\\nMatrix with Sorted Columns:\")\n",
        "print(sorted_columns)\n"
      ],
      "metadata": {
        "id": "cNfhwcK-TujH",
        "colab": {
          "base_uri": "https://localhost:8080/"
        },
        "outputId": "446f5a22-c512-4fcb-ccb7-9162b2e90ccb"
      },
      "execution_count": null,
      "outputs": [
        {
          "output_type": "stream",
          "name": "stdout",
          "text": [
            "Original Matrix:\n",
            "[[    0     1     1     2     3]\n",
            " [    5     8    13    21    34]\n",
            " [   55    89   144   233   377]\n",
            " [  610   987  1597  2584  4181]\n",
            " [ 6765 10946 17711 28657 46368]]\n",
            "\n",
            "Matrix with Sorted Rows:\n",
            "[[    0     1     1     2     3]\n",
            " [    5     8    13    21    34]\n",
            " [   55    89   144   233   377]\n",
            " [  610   987  1597  2584  4181]\n",
            " [ 6765 10946 17711 28657 46368]]\n",
            "\n",
            "Matrix with Sorted Columns:\n",
            "[[    0     1     1     2     3]\n",
            " [    5     8    13    21    34]\n",
            " [   55    89   144   233   377]\n",
            " [  610   987  1597  2584  4181]\n",
            " [ 6765 10946 17711 28657 46368]]\n"
          ]
        }
      ]
    },
    {
      "cell_type": "code",
      "source": [
        "# Question - 6\n",
        "\n",
        "# if element is greater than 2, multiply element by 10\n",
        "\n",
        "\n",
        "# Initializing an empty matrix 'b' to store the result\n",
        "b = np.zeros_like(a)\n",
        "\n",
        "# Applying the condition and multiplication using a for loop\n",
        "\n",
        "for i in range(a.shape[0]): # Iterate over rows\n",
        "    for j in range(a.shape[1]): # Iterate over columns\n",
        "        if a[i, j] > 2:\n",
        "           b[i, j] = a[i, j] * 10\n",
        "        else:\n",
        "            b[i, j] = a[i, j]\n",
        "\n",
        "print(\"Original Matrix:\")\n",
        "print(a)\n",
        "print(\"\\nMatrix 'b' after Multiplication:\")\n",
        "print(b)\n"
      ],
      "metadata": {
        "id": "v3DHwdxvg6cI",
        "colab": {
          "base_uri": "https://localhost:8080/"
        },
        "outputId": "872ca43a-a54e-4555-8319-e45c04ce87bc"
      },
      "execution_count": null,
      "outputs": [
        {
          "output_type": "stream",
          "name": "stdout",
          "text": [
            "Original Matrix:\n",
            "[[    0     1     1     2     3]\n",
            " [    5     8    13    21    34]\n",
            " [   55    89   144   233   377]\n",
            " [  610   987  1597  2584  4181]\n",
            " [ 6765 10946 17711 28657 46368]]\n",
            "\n",
            "Matrix 'b' after Multiplication:\n",
            "[[     0      1      1      2     30]\n",
            " [    50     80    130    210    340]\n",
            " [   550    890   1440   2330   3770]\n",
            " [  6100   9870  15970  25840  41810]\n",
            " [ 67650 109460 177110 286570 463680]]\n"
          ]
        }
      ]
    },
    {
      "cell_type": "code",
      "source": [
        "# Question - 7\n",
        "\n",
        "\n",
        "\n",
        "# Adding matrices 'a' and 'b'\n",
        "\n",
        "print(\"Matrix 'a':\")\n",
        "print(a)\n",
        "print(\"\\nMatrix 'b':\")\n",
        "print(b)\n",
        "\n",
        "result = a + b # adding the matrices\n",
        "\n",
        "print(\"\\nMatrix 'a + b':\")\n",
        "print(result)"
      ],
      "metadata": {
        "id": "X5n_7Jr9NmTt",
        "colab": {
          "base_uri": "https://localhost:8080/"
        },
        "outputId": "141120a6-7faf-4dc0-c0d7-5eb2866fdbd1"
      },
      "execution_count": null,
      "outputs": [
        {
          "output_type": "stream",
          "name": "stdout",
          "text": [
            "Matrix 'a':\n",
            "[[    0     1     1     2     3]\n",
            " [    5     8    13    21    34]\n",
            " [   55    89   144   233   377]\n",
            " [  610   987  1597  2584  4181]\n",
            " [ 6765 10946 17711 28657 46368]]\n",
            "\n",
            "Matrix 'b':\n",
            "[[     0      1      1      2     30]\n",
            " [    50     80    130    210    340]\n",
            " [   550    890   1440   2330   3770]\n",
            " [  6100   9870  15970  25840  41810]\n",
            " [ 67650 109460 177110 286570 463680]]\n",
            "\n",
            "Matrix 'a + b':\n",
            "[[     0      2      2      4     33]\n",
            " [    55     88    143    231    374]\n",
            " [   605    979   1584   2563   4147]\n",
            " [  6710  10857  17567  28424  45991]\n",
            " [ 74415 120406 194821 315227 510048]]\n"
          ]
        }
      ]
    },
    {
      "cell_type": "code",
      "source": [
        "# Question - 8\n",
        "\n",
        "\n",
        "\n",
        "# Subtracting matrices 'b' to 'a'\n",
        "\n",
        "print(\"Matrix 'a':\")\n",
        "print(a)\n",
        "print(\"\\nMatrix 'b':\")\n",
        "print(b)\n",
        "\n",
        "result = b - a  # # subtracting the matrices\n",
        "\n",
        "print(\"\\nMatrix 'b-a':\")\n",
        "print(result)\n"
      ],
      "metadata": {
        "id": "48fTEOvJOlcJ",
        "colab": {
          "base_uri": "https://localhost:8080/"
        },
        "outputId": "7bfe52e3-6e2f-4d40-9ee5-05799a67705e"
      },
      "execution_count": null,
      "outputs": [
        {
          "output_type": "stream",
          "name": "stdout",
          "text": [
            "Matrix 'a':\n",
            "[[    0     1     1     2     3]\n",
            " [    5     8    13    21    34]\n",
            " [   55    89   144   233   377]\n",
            " [  610   987  1597  2584  4181]\n",
            " [ 6765 10946 17711 28657 46368]]\n",
            "\n",
            "Matrix 'b':\n",
            "[[     0      1      1      2     30]\n",
            " [    50     80    130    210    340]\n",
            " [   550    890   1440   2330   3770]\n",
            " [  6100   9870  15970  25840  41810]\n",
            " [ 67650 109460 177110 286570 463680]]\n",
            "\n",
            "Matrix 'b-a':\n",
            "[[     0      0      0      0     27]\n",
            " [    45     72    117    189    306]\n",
            " [   495    801   1296   2097   3393]\n",
            " [  5490   8883  14373  23256  37629]\n",
            " [ 60885  98514 159399 257913 417312]]\n"
          ]
        }
      ]
    },
    {
      "cell_type": "code",
      "source": [
        "# Question -9\n",
        "\n",
        "\n",
        "\n",
        "# a*b elementwise\n",
        "\n",
        "print(\"Matrix 'a':\")\n",
        "print(a)\n",
        "print(\"\\nMatrix 'b':\")\n",
        "print(b)\n",
        "\n",
        "result = a * b  # a*b elementwise\n",
        "\n",
        "print(\"\\nMatrix 'a*b':\")\n",
        "print(result)\n",
        "\n",
        "\n",
        "\n",
        "# Matrix multiplication of matrices 'a' and 'b'\n",
        "\n",
        "matrix_multiplication_result = np.dot(a, b)\n",
        "\n",
        "print(\"\\nMatrix Multiplication (a dot b):\")\n",
        "print(matrix_multiplication_result)"
      ],
      "metadata": {
        "id": "cr0Z7XCTPqMo",
        "colab": {
          "base_uri": "https://localhost:8080/"
        },
        "outputId": "27a3ee88-1944-4fe1-c9c4-2c44cadfee22"
      },
      "execution_count": null,
      "outputs": [
        {
          "output_type": "stream",
          "name": "stdout",
          "text": [
            "Matrix 'a':\n",
            "[[    0     1     1     2     3]\n",
            " [    5     8    13    21    34]\n",
            " [   55    89   144   233   377]\n",
            " [  610   987  1597  2584  4181]\n",
            " [ 6765 10946 17711 28657 46368]]\n",
            "\n",
            "Matrix 'b':\n",
            "[[     0      1      1      2     30]\n",
            " [    50     80    130    210    340]\n",
            " [   550    890   1440   2330   3770]\n",
            " [  6100   9870  15970  25840  41810]\n",
            " [ 67650 109460 177110 286570 463680]]\n",
            "\n",
            "Matrix 'a*b':\n",
            "[[          0           1           1           4          90]\n",
            " [        250         640        1690        4410       11560]\n",
            " [      30250       79210      207360      542890     1421290]\n",
            " [    3721000     9741690    25504090    66770560   174807610]\n",
            " [  457652250  1198149160  3136795210  8212236490 21499914240]]\n",
            "\n",
            "Matrix Multiplication (a dot b):\n",
            "[[     215750      349090      564840      913930     1478770]\n",
            " [    2435750     3941125     6376875    10318000    16695010]\n",
            " [   27009000    43701465    70710465   114411930   185123880]\n",
            " [  299534750   484657240   784191990  1268849230  2053057690]\n",
            " [ 3321891250  5374931105  8696822355 14071753460 22768758470]]\n"
          ]
        }
      ]
    },
    {
      "cell_type": "code",
      "source": [
        "# Question 10\n",
        "# Define the matrices A and B\n",
        "\n",
        "\n",
        "\n",
        "\n",
        "A = np.array([[18, 8, 3, 6, 5],\n",
        "[2, 7, 20, 76, 8],\n",
        "[76, 9, 24, 85, 54],\n",
        "[87, 90, 56, 5, 108],\n",
        "[45, 28, 59, 33, 68]])\n",
        "B = np.array([[50, 90, 60, 70, 40],\n",
        "[80, 5, 60, 980, 120],\n",
        "[670, 90, 560, 140, 970],\n",
        "[390, 930, 540, 230, 630],\n",
        "[40, 170, 810, 960, 680]])\n",
        "\n",
        "# Divide each element of matrix a and b by 18\n",
        "import numpy as np\n",
        "\n",
        "# Divide each element by 18\n",
        "A_divided = A / 18\n",
        "B_divided = B / 18\n",
        "print(\"Matrix A divided by 18:\")\n",
        "print(A_divided)\n",
        "print(\"\\nMatrix B divided by 18:\")\n",
        "print(B_divided)\n"
      ],
      "metadata": {
        "id": "9Ho2We-YSdBI",
        "colab": {
          "base_uri": "https://localhost:8080/"
        },
        "outputId": "7179635c-afa8-4339-bfd6-f339e9a746fe"
      },
      "execution_count": null,
      "outputs": [
        {
          "output_type": "stream",
          "name": "stdout",
          "text": [
            "Matrix A divided by 18:\n",
            "[[1.         0.44444444 0.16666667 0.33333333 0.27777778]\n",
            " [0.11111111 0.38888889 1.11111111 4.22222222 0.44444444]\n",
            " [4.22222222 0.5        1.33333333 4.72222222 3.        ]\n",
            " [4.83333333 5.         3.11111111 0.27777778 6.        ]\n",
            " [2.5        1.55555556 3.27777778 1.83333333 3.77777778]]\n",
            "\n",
            "Matrix B divided by 18:\n",
            "[[ 2.77777778  5.          3.33333333  3.88888889  2.22222222]\n",
            " [ 4.44444444  0.27777778  3.33333333 54.44444444  6.66666667]\n",
            " [37.22222222  5.         31.11111111  7.77777778 53.88888889]\n",
            " [21.66666667 51.66666667 30.         12.77777778 35.        ]\n",
            " [ 2.22222222  9.44444444 45.         53.33333333 37.77777778]]\n"
          ]
        }
      ]
    },
    {
      "cell_type": "code",
      "source": [
        "# Question - 11\n",
        "# Find the inverse, Rank, Condition number, Singular Value Decomposition and The Norm of Matrices A and B.\n",
        "\n",
        "\n",
        "\n",
        "# Inverse of matrix A\n",
        "A_inverse = np.linalg.inv(A)\n",
        "print(\"Inverse of Matrix A:\")\n",
        "print(A_inverse)\n",
        "\n",
        "# Rank of matrix A\n",
        "rank_A = np.linalg.matrix_rank(A)\n",
        "print(\"Rank of Matrix A:\", rank_A)\n",
        "\n",
        "# condition number of matrix A\n",
        "cond_number_A = np.linalg.cond(A)\n",
        "print(\"Condition Number of Matrix A:\", cond_number_A)\n",
        "\n",
        "# Singular value decomposition\n",
        "U, S, Vt = np.linalg.svd(A)\n",
        "print(\"U matrix:\")\n",
        "print(U)\n",
        "print(\"Singular Values (Σ matrix):\")\n",
        "print(np.diag(S))\n",
        "print(\"V transpose matrix:\")\n",
        "print(Vt)\n",
        "\n",
        "# the norm of matrix A\n",
        "norm_A = np.linalg.norm(A)\n",
        "print(\"Norm of Matrix A:\", norm_A)\n",
        "\n",
        "\n",
        "# Inverse of matrix B\n",
        "B_inverse = np.linalg.inv(B)\n",
        "print(\"Inverse of Matrix B:\")\n",
        "print(B_inverse)\n",
        "\n",
        "# Rank of matrix B\n",
        "rank_B = np.linalg.matrix_rank(B)\n",
        "print(\"Rank of Matrix B:\", rank_B)\n",
        "\n",
        "# condition number of matrix B\n",
        "cond_number_B = np.linalg.cond(B)\n",
        "print(\"Condition Number of Matrix B:\", cond_number_B)\n",
        "\n",
        "# Singular value decomposition\n",
        "U, S, Vt = np.linalg.svd(B)\n",
        "print(\"U matrix:\")\n",
        "print(U)\n",
        "print(\"Singular Values (Σ matrix):\")\n",
        "print(np.diag(S))\n",
        "print(\"V transpose matrix:\")\n",
        "print(Vt)\n",
        "\n",
        "# the norm of matrix B\n",
        "norm_B = np.linalg.norm(B)\n",
        "print(\"Norm of Matrix B:\", norm_B)"
      ],
      "metadata": {
        "id": "hncuofVOsUh6",
        "colab": {
          "base_uri": "https://localhost:8080/"
        },
        "outputId": "42017a76-bb98-455b-8531-88f060c46581"
      },
      "execution_count": null,
      "outputs": [
        {
          "output_type": "stream",
          "name": "stdout",
          "text": [
            "Inverse of Matrix A:\n",
            "[[ 0.06709786 -0.01000392  0.00233646 -0.00726219  0.0059219 ]\n",
            " [ 0.0259031   0.01813758 -0.01309691  0.01330015 -0.01476175]\n",
            " [ 0.07345776  0.00270836 -0.02050015 -0.01576537  0.0355987 ]\n",
            " [-0.01156773  0.01198683  0.00449183  0.00183958 -0.00704836]\n",
            " [-0.11319064 -0.00901521  0.01945369  0.01211537 -0.01060124]]\n",
            "Rank of Matrix A: 5\n",
            "Condition Number of Matrix A: 36.52754529953281\n",
            "U matrix:\n",
            "[[-0.08014042 -0.00812732 -0.20899823 -0.14157668 -0.96425476]\n",
            " [-0.1737107  -0.61161562  0.5891618  -0.4974023  -0.03507492]\n",
            " [-0.48524205 -0.57235865 -0.62962256  0.11586598  0.16460933]\n",
            " [-0.71704216  0.54593729  0.00931713 -0.41790473  0.11433218]\n",
            " [-0.46237734 -0.01477595  0.46119055  0.73788733 -0.16974814]]\n",
            "Singular Values (Σ matrix):\n",
            "[[229.97419574   0.           0.           0.           0.        ]\n",
            " [  0.         103.35849971   0.           0.           0.        ]\n",
            " [  0.           0.          39.26627833   0.           0.        ]\n",
            " [  0.           0.           0.          25.8729727    0.        ]\n",
            " [  0.           0.           0.           0.           6.29591159]]\n",
            "V transpose matrix:\n",
            "[[-0.52987681 -0.36397404 -0.36001895 -0.32078422 -0.59517839]\n",
            " [ 0.01899066  0.37948571  0.03586938 -0.89919993  0.21396919]\n",
            " [-0.73525669  0.26835803  0.60554     0.13421857  0.05184838]\n",
            " [ 0.0815464  -0.79319127  0.48470252 -0.25287658  0.25556742]\n",
            " [-0.41426768 -0.1494827  -0.51718906  0.08109114  0.72936748]]\n",
            "Norm of Matrix A: 256.55798564846896\n",
            "Inverse of Matrix B:\n",
            "[[ 2.09220396e-02 -1.90615909e-04  1.14840499e-03 -1.94614473e-03\n",
            "  -1.03219020e-03]\n",
            " [-3.38250754e-03  3.08301096e-04 -6.52427184e-04  1.52597150e-03\n",
            "  -3.38534569e-04]\n",
            " [ 2.18827510e-02 -2.37552985e-03 -6.21359223e-05 -2.35531917e-03\n",
            "   1.40275950e-03]\n",
            " [ 2.52088831e-04  1.01726376e-03 -1.29819695e-04 -1.88129656e-05\n",
            "   8.26774712e-06]\n",
            " [-2.68071896e-02  1.32767562e-03  3.52843273e-04  2.56514648e-03\n",
            "  -6.66672776e-05]]\n",
            "Rank of Matrix B: 5\n",
            "Condition Number of Matrix B: 88.9303592363959\n",
            "U matrix:\n",
            "[[-0.05885815  0.0048051   0.08363252 -0.05339503 -0.99331123]\n",
            " [-0.27566238 -0.67447176  0.07496878 -0.6784968   0.05585586]\n",
            " [-0.52093331  0.42358531 -0.68371958 -0.28573626 -0.00928989]\n",
            " [-0.52258061  0.43086669  0.71741808 -0.12846343  0.10035855]\n",
            " [-0.61325685 -0.42425716 -0.07227804  0.6623013  -0.00740133]]\n",
            "Singular Values (Σ matrix):\n",
            "[[2176.8597396     0.            0.            0.            0.        ]\n",
            " [   0.         1100.12540495    0.            0.            0.        ]\n",
            " [   0.            0.          678.64758508    0.            0.        ]\n",
            " [   0.            0.            0.          394.29562252    0.        ]\n",
            " [   0.            0.            0.            0.           24.47825195]]\n",
            "V transpose matrix:\n",
            "[[-0.27670957 -0.29575317 -0.50105454 -0.48515757 -0.59120923]\n",
            " [ 0.34646268  0.33065784  0.07821607 -0.82675262  0.28458982]\n",
            " [-0.25198802  0.88599528 -0.06558092  0.11673538 -0.36549472]\n",
            " [-0.68984147 -0.10346063  0.66743826 -0.25971613  0.02209848]\n",
            " [-0.51382507  0.08662398 -0.54134269 -0.00475675  0.65985267]]\n",
            "Norm of Matrix B: 2562.3475564411633\n"
          ]
        }
      ]
    },
    {
      "cell_type": "code",
      "source": [
        "# Question - 12\n",
        "# Find the norm, inner product and outer product of column vector\n",
        "\n",
        "\n",
        "\n",
        "import numpy as np              # Importing numpy\n",
        "# column vector x\n",
        "x = np.array([12, 56, 15, 7])\n",
        "\n",
        "norm_x = np.linalg.norm(x)      # Finding Norm of vector x\n",
        "print(\"Norm of Column Vector x:\", norm_x)\n",
        "\n",
        "y = np.array([8, 2, 17, 3])\n",
        "\n",
        "norm_y = np.linalg.norm(y)      # Finding Norm of vector y\n",
        "print(\"Norm of Column Vector y:\", norm_y)\n",
        "\n",
        "inner_product = np.dot(x, y)    # Finding Inner Product\n",
        "print(\"Inner Product of Column Vectors x and y:\", inner_product)\n",
        "\n",
        "outer_product = np.outer(x, y)  # Finding Outer Product\n",
        "print(\"Outer Product of Column Vectors x and y:\")\n",
        "print(outer_product)"
      ],
      "metadata": {
        "id": "giyOCW0ZVwVm",
        "colab": {
          "base_uri": "https://localhost:8080/"
        },
        "outputId": "85b3536a-313a-49e0-9c48-49ff4e5cdbb7"
      },
      "execution_count": null,
      "outputs": [
        {
          "output_type": "stream",
          "name": "stdout",
          "text": [
            "Norm of Column Vector x: 59.61543424315552\n",
            "Norm of Column Vector y: 19.131126469708992\n",
            "Inner Product of Column Vectors x and y: 484\n",
            "Outer Product of Column Vectors x and y:\n",
            "[[ 96  24 204  36]\n",
            " [448 112 952 168]\n",
            " [120  30 255  45]\n",
            " [ 56  14 119  21]]\n"
          ]
        }
      ]
    },
    {
      "cell_type": "code",
      "source": [
        "# QUESTION - 13\n",
        "# Write a function called derivative which takes input parameters f(x), a, method (forward,backward and central) and h(step size) (with default values method=‘central’ and h = 0.01) and returns the corresponding difference formula for derivative of function at a with step size h and then test your function on e^x and cos x at x = 0.5\n",
        "\n",
        "\n",
        "\n",
        "import math\n",
        "\n",
        "def derivative(f, a, method='central', h=0.01):\n",
        "    # the numerical derivative using different methods.\n",
        "    # Returns the approximate derivative of function f at point a.\n",
        "\n",
        "    if method == 'forward':\n",
        "        return (f(a + h) - f(a)) / h\n",
        "    elif method == 'backward':\n",
        "        return (f(a) - f(a - h)) / h\n",
        "    elif method == 'central':\n",
        "        return (f(a + h) - f(a - h)) / (2 * h)\n",
        "    else:\n",
        "        raise ValueError(\"Invalid method, supported methods are 'forward', 'backward', and 'central'.\")\n",
        "\n",
        "    def ex(x):\n",
        "        return math.exp(x)\n",
        "\n",
        "    def cos(x):\n",
        "        return math.cos(x)\n",
        "\n",
        "\n",
        "    x = 0.5                                               # value of x is intialized\n",
        "\n",
        "    ex_forward = derivative(ex, x, method='forward')      # for x =0.5 forward derivative ex()\n",
        "    ex_backward = derivative(ex, x, method='backward')    #for x =0.5 backward derivative ex()\n",
        "    ex_central = derivative(ex, x, method='central')      #for x =0.5 central derivative ex()\n",
        "\n",
        "    cos_forward = derivative(cos, x, method='forward')    #for x =0.5 forward derivative cos()\n",
        "    cos_backward = derivative(cos, x, method='backward')  #for x =0.5 backward derivative is cos()\n",
        "    cos_central = derivative(cos, x, method='central')    #for x =0.5 backward derivative cos()\n",
        "\n",
        "    print(\"Testing on ex(x) at x =\",x)\n",
        "    print(\"Forward difference:\", ex_forward)\n",
        "    print(\"Backward difference:\", ex_backward)\n",
        "    print(\"Central difference:\", ex_central)\n",
        "\n",
        "    print(\"\\nTesting on cos(x) at x =\",x)\n",
        "    print(\"Forward difference:\", cos_forward)\n",
        "    print(\"Backward difference:\", cos_backward)\n",
        "    print(\"Central difference:\", cos_central)"
      ],
      "metadata": {
        "id": "3rOeRc-lUqhJ"
      },
      "execution_count": null,
      "outputs": []
    },
    {
      "cell_type": "code",
      "source": [
        "# QUESTION - 14\n",
        "# Download the Automatic Weather Station AWS Data. Read the .csv file using pandas library as a DataFrame\n",
        "\n",
        "import pandas as pd\n",
        "# Dowloaded an aws_file from google and save it as .csv\n",
        "df = pd.read_csv('/Assignment1/aws_sept14.csv', index_col=0) # path of the file\n",
        "print(df)"
      ],
      "metadata": {
        "colab": {
          "base_uri": "https://localhost:8080/"
        },
        "id": "ivq8oTmhs8BL",
        "outputId": "33901d27-bf10-4245-b376-656157edbd4d"
      },
      "execution_count": null,
      "outputs": [
        {
          "output_type": "stream",
          "name": "stdout",
          "text": [
            "            longitude   latitude start_year  end_year  status  aws  reg_name  \\\n",
            "rainfall_s                                                                     \n",
            "Dollow      42.079382   4.187771   Mar 2014       0.0     0.0  0.0       0.0   \n",
            "Boroma      43.179160   9.940072   Oct 2010       0.0     0.0  0.0       0.0   \n",
            "Burao       45.566670   9.516670  Sept 2014       0.0     0.0  0.0       0.0   \n",
            "Erigavo     47.366670  10.616670       2009       0.0     0.0  0.0       0.0   \n",
            "Hargeisa    44.066800   9.559750       2008       0.0     0.0  0.0       0.0   \n",
            "Aburin      43.805750   9.517430       2012       0.0     0.0  0.0       0.0   \n",
            "Galkayo     47.422720   6.777190       2012       0.0     0.0  0.0       0.0   \n",
            "Garowe      48.477540   8.404580       2009       0.0     0.0  0.0       0.0   \n",
            "Burao       45.566670   9.516670       2014       0.0     0.0  0.0       0.0   \n",
            "Mandera     41.860792   3.934514       2012       0.0     0.0  0.0       0.0   \n",
            "\n",
            "            dist_name mgt                    location  \n",
            "rainfall_s                                             \n",
            "Dollow            0.0  SC   POINT(42.079382 4.187771)  \n",
            "Boroma            0.0  SL   POINT(43.179160 9.940072)  \n",
            "Burao             0.0  SL   POINT(45.566670 9.516670)  \n",
            "Erigavo           0.0  SL  POINT(47.366670 10.616670)  \n",
            "Hargeisa          0.0  SL   POINT(44.066800 9.559750)  \n",
            "Aburin            0.0  SL   POINT(43.805750 9.517430)  \n",
            "Galkayo           0.0  PL   POINT(47.422720 6.777190)  \n",
            "Garowe            0.0  PL   POINT(48.477540 8.404580)  \n",
            "Burao             0.0  PL   POINT(45.566670 9.516670)  \n",
            "Mandera           0.0  SC   POINT(41.860792 3.934514)  \n"
          ]
        }
      ]
    }
  ]
}