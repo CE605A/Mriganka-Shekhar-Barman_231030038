{
  "nbformat": 4,
  "nbformat_minor": 0,
  "metadata": {
    "colab": {
      "provenance": []
    },
    "kernelspec": {
      "name": "python3",
      "display_name": "Python 3"
    },
    "language_info": {
      "name": "python"
    }
  },
  "cells": [
    {
      "cell_type": "code",
      "execution_count": 1,
      "metadata": {
        "id": "O2BHtFceyWwF",
        "colab": {
          "base_uri": "https://localhost:8080/"
        },
        "outputId": "18599695-a236-4896-8687-feb6b36e1016"
      },
      "outputs": [
        {
          "output_type": "stream",
          "name": "stdout",
          "text": [
            "Mean: 64.887012987013\n",
            "Median: 64.7\n",
            "Mode: 56.1\n",
            "Range: 27.700000000000003\n",
            "Variance: 60.091000168662504\n",
            "Standard Deviation: 7.751838502488458\n"
          ]
        }
      ],
      "source": [
        "import numpy as np\n",
        "import statistics\n",
        "\n",
        "# Given data\n",
        "data = [55.3, 55.3, 55.3, 55.9, 55.9, 55.9, 55.9, 56.1, 56.1, 56.1, 56.1, 56.1, 56.1, 56.8, 56.8,\n",
        "        57.0, 57.0, 57.0, 57.8, 57.8, 57.8, 57.9, 57.9, 57.9, 58.8, 58.8, 58.8, 59.8, 59.8, 59.8,\n",
        "        62.2, 62.2, 63.8, 63.8, 63.8, 63.9, 63.9, 63.9, 64.7, 64.7, 64.7, 65.1, 65.1, 65.1, 65.3,\n",
        "        65.3, 65.3, 65.3, 67.4, 67.4, 67.4, 67.4, 68.7, 68.7, 68.7, 68.7, 69.0, 70.4, 70.4, 71.2,\n",
        "        71.2, 71.2, 73.0, 73.0, 73.1, 73.1, 74.6, 74.6, 74.6, 74.6, 79.3, 79.3, 79.3, 79.3, 83.0,\n",
        "        83.0, 83.0]\n",
        "\n",
        "# Calculate mean\n",
        "mean = np.mean(data)\n",
        "\n",
        "# Calculate median\n",
        "median = np.median(data)\n",
        "\n",
        "# Calculate mode\n",
        "mode_result = statistics.mode(data)\n",
        "\n",
        "# Calculate range\n",
        "data_range = np.max(data) - np.min(data)\n",
        "\n",
        "# Calculate variance\n",
        "variance = np.var(data)\n",
        "\n",
        "# Calculate standard deviation\n",
        "std_deviation = np.std(data)\n",
        "\n",
        "# Print the results\n",
        "print(\"Mean:\", mean)\n",
        "print(\"Median:\", median)\n",
        "print(\"Mode:\", mode_result)\n",
        "print(\"Range:\", data_range)\n",
        "print(\"Variance:\", variance)\n",
        "print(\"Standard Deviation:\", std_deviation)\n"
      ]
    },
    {
      "cell_type": "code",
      "source": [
        "import numpy as np\n",
        "from statistics import mean, median\n",
        "\n",
        "# Given data\n",
        "data = [55.3, 55.3, 55.3, 55.9, 55.9, 55.9, 55.9, 56.1, 56.1, 56.1, 56.1, 56.1, 56.1, 56.8, 56.8,\n",
        "        57.0, 57.0, 57.0, 57.8, 57.8, 57.8, 57.9, 57.9, 57.9, 58.8, 58.8, 58.8, 59.8, 59.8, 59.8,\n",
        "        62.2, 62.2, 63.8, 63.8, 63.8, 63.9, 63.9, 63.9, 64.7, 64.7, 64.7, 65.1, 65.1, 65.1, 65.3,\n",
        "        65.3, 65.3, 65.3, 67.4, 67.4, 67.4, 67.4, 68.7, 68.7, 68.7, 68.7, 69.0, 70.4, 70.4, 71.2,\n",
        "        71.2, 71.2, 73.0, 73.0, 73.1, 73.1, 74.6, 74.6, 74.6, 74.6, 79.3, 79.3, 79.3, 79.3, 83.0,\n",
        "        83.0, 83.0]\n",
        "\n",
        "# Calculate variance\n",
        "variance = np.var(data)\n",
        "\n",
        "# Calculate mean absolute deviation\n",
        "mean_abs_deviation = np.mean(np.abs(np.array(data) - mean(data)))\n",
        "\n",
        "# Calculate median absolute deviation\n",
        "median_abs_deviation = np.median(np.abs(np.array(data) - median(data)))\n",
        "\n",
        "# Display the results\n",
        "print(\"Variance:\", variance)\n",
        "print(\"Mean Absolute Deviation:\", mean_abs_deviation)\n",
        "print(\"Median Absolute Deviation:\", median_abs_deviation)\n"
      ],
      "metadata": {
        "id": "ZeSiN74e3fgM",
        "outputId": "a8df016e-851b-4ddc-b91a-c3454af3b1d7",
        "colab": {
          "base_uri": "https://localhost:8080/"
        }
      },
      "execution_count": 2,
      "outputs": [
        {
          "output_type": "stream",
          "name": "stdout",
          "text": [
            "Variance: 60.091000168662504\n",
            "Mean Absolute Deviation: 6.367987856299543\n",
            "Median Absolute Deviation: 6.800000000000004\n"
          ]
        }
      ]
    },
    {
      "cell_type": "code",
      "source": [],
      "metadata": {
        "id": "MO4uiMOh3fjD"
      },
      "execution_count": null,
      "outputs": []
    }
  ]
}